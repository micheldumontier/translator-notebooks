{
 "cells": [
  {
   "cell_type": "code",
   "execution_count": 37,
   "metadata": {},
   "outputs": [],
   "source": [
    "import sys\n",
    "import rdflib\n",
    "import matplotlib\n",
    "import pandas as pd\n",
    "import scipy.stats as ss\n",
    "from IPython.core.display import display, HTML\n",
    "from SPARQLWrapper import SPARQLWrapper, JSON, XML, N3\n",
    "from decimal import Decimal\n",
    "import visJS2jupyter.visJS_module\n",
    "import visJS2jupyter.visualizations\n",
    "import networkx as nx\n",
    "\n",
    "import random\n",
    "\n",
    "def getPrefixDec(prefixes):\n",
    "    l = \"\"\n",
    "    for k,v in prefixes.items():\n",
    "        l = l + \"PREFIX \" + k + \": <\" + v + \">\" + \"\\r\\n\"\n",
    "    return l\n",
    "\n",
    "def getValuesDec(entities):\n",
    "    l = \"\"\n",
    "    for i in entities:\n",
    "        if(i[0:4] == \"http\"):\n",
    "            l = l + \"(<\" + i + \">) \"\n",
    "        else:\n",
    "            l = l + \"(\" + i + \") \"\n",
    "    return l\n",
    "\n",
    "def getOrphanetPhenotypes(disease, endpoint, prefixes, entities = \"\", predicates = \"\", triplepattern = \"\"):\n",
    "    prefixDec = getPrefixDec(prefixes)\n",
    "    eValuesDec = \" VALUES (?s) {\" + getValuesDec(entities) + \"}\"\n",
    "    pValuesDec = \" VALUES (?p) {\" + getValuesDec(predicates) + \"}\"\n",
    "    sparql = SPARQLWrapper(endpoint)\n",
    "    query = prefixDec + \"\"\" \n",
    "\n",
    "CONSTRUCT \n",
    "{\n",
    "    ?d <http://bio2rdf.org/has-phenotype> ?sign .\n",
    "    ?sign dct:title ?signLabel .\n",
    "}\n",
    "{ \n",
    "  ?d ov:sign-freq ?sf .\n",
    "  FILTER (?d = \"\"\" + disease + \"\"\")\n",
    "  ?sf ov:frequency ?f .\n",
    "  ?f dct:title \"Very frequent\"@en .\n",
    "  ?sf ov:sign ?sign .\n",
    "  ?sign dct:title ?signLabel .\n",
    "\n",
    "}\n",
    "    \"\"\"\n",
    "   \n",
    "    sparql.setQuery(query)\n",
    "    sparql.setReturnFormat(XML)\n",
    "    results = sparql.query().convert()\n",
    "    \n",
    "    #print(results.serialize(format='n3').decode())\n",
    "    \n",
    "   # print(results)\n",
    "   # g = rdflib.Graph()\n",
    "   # g.parse(data=results, format=\"xml\")\n",
    "   # print(g.serialize(format='n3'))\n",
    "\n",
    "    return results\n",
    "\n",
    "localhost = \"http://10.106.2.140:9999/blazegraph/sparql\"\n",
    "bio2rdf   = \"http://bio2rdf.org/sparql\"\n",
    "\n",
    "prefixes = {\"dct\":\"http://purl.org/dc/terms/\", \"omim\":\"http://bio2rdf.org/omim:\", \n",
    "            \"ov\":\"http://bio2rdf.org/orphanet_vocabulary:\", \"orphanet\":\"http://bio2rdf.org/orphanet:\" }\n",
    "disease = \"omim:511775\"\n",
    "disease = \"orphanet:2331\"\n",
    "\n",
    "phenotypes = getOrphanetPhenotypes(disease, localhost, prefixes)\n",
    "\n",
    "\n",
    "\n"
   ]
  },
  {
   "cell_type": "code",
   "execution_count": null,
   "metadata": {},
   "outputs": [],
   "source": []
  },
  {
   "cell_type": "code",
   "execution_count": 22,
   "metadata": {},
   "outputs": [],
   "source": []
  },
  {
   "cell_type": "code",
   "execution_count": 36,
   "metadata": {},
   "outputs": [
    {
     "data": {
      "text/html": [
       "<!doctype html><html><head>  <title>Network | Basic usage</title></head><body><script type=\"text/javascript\">function setUpFrame() {     var frame = window.frames[\"style_file0\"];    frame.runVis([{\"id\": 0, \"x\": 229.27696661342145, \"y\": 272.6134598858784, \"node_shape\": \"dot\", \"color\": \"#8BA8D3\", \"border_width\": 0, \"title\": 0, \"degree\": 3.0}, {\"id\": 1, \"x\": 247.9409405841554, \"y\": 260.76685147163397, \"node_shape\": \"dot\", \"color\": \"#8BA8D3\", \"border_width\": 0, \"title\": 1, \"degree\": 3.0}, {\"id\": 2, \"x\": 209.25151801706804, \"y\": 258.0189808073474, \"node_shape\": \"dot\", \"color\": \"#8BA8D3\", \"border_width\": 0, \"title\": 2, \"degree\": 3.0}, {\"id\": 3, \"x\": 173.2618815917246, \"y\": 294.48584613079566, \"node_shape\": \"dot\", \"color\": \"#8BA8D3\", \"border_width\": 0, \"title\": 3, \"degree\": 3.0}, {\"id\": 4, \"x\": 135.74711489420855, \"y\": 293.3150746354714, \"node_shape\": \"dot\", \"color\": \"#8BA8D3\", \"border_width\": 0, \"title\": 4, \"degree\": 3.0}, {\"id\": 5, \"x\": 97.61769128410366, \"y\": 286.1686910834756, \"node_shape\": \"dot\", \"color\": \"#8BA8D3\", \"border_width\": 0, \"title\": 5, \"degree\": 3.0}, {\"id\": 6, \"x\": 138.87546829108922, \"y\": 227.21844989529615, \"node_shape\": \"dot\", \"color\": \"#8BA8D3\", \"border_width\": 0, \"title\": 6, \"degree\": 3.0}, {\"id\": 7, \"x\": 161.15696831549792, \"y\": 149.3297752252143, \"node_shape\": \"dot\", \"color\": \"#8BA8D3\", \"border_width\": 0, \"title\": 7, \"degree\": 3.0}, {\"id\": 8, \"x\": 219.4093449180567, \"y\": 128.78361912815578, \"node_shape\": \"dot\", \"color\": \"#8BA8D3\", \"border_width\": 0, \"title\": 8, \"degree\": 3.0}, {\"id\": 9, \"x\": 203.0715963853733, \"y\": 95.38203307311278, \"node_shape\": \"dot\", \"color\": \"#8BA8D3\", \"border_width\": 0, \"title\": 9, \"degree\": 3.0}, {\"id\": 10, \"x\": 106.3420840410504, \"y\": 81.64049869481022, \"node_shape\": \"dot\", \"color\": \"#8BA8D3\", \"border_width\": 0, \"title\": 10, \"degree\": 3.0}, {\"id\": 11, \"x\": 65.74713066267081, \"y\": 165.05971834552304, \"node_shape\": \"dot\", \"color\": \"#8BA8D3\", \"border_width\": 0, \"title\": 11, \"degree\": 3.0}, {\"id\": 12, \"x\": 0.0, \"y\": 135.7210469185356, \"node_shape\": \"dot\", \"color\": \"#8BA8D3\", \"border_width\": 0, \"title\": 12, \"degree\": 3.0}, {\"id\": 13, \"x\": 168.38589834180573, \"y\": 186.96056464937857, \"node_shape\": \"dot\", \"color\": \"#8BA8D3\", \"border_width\": 0, \"title\": 13, \"degree\": 3.0}, {\"id\": 14, \"x\": 2.2641292501486796, \"y\": 161.08643394959032, \"node_shape\": \"dot\", \"color\": \"#8BA8D3\", \"border_width\": 0, \"title\": 14, \"degree\": 3.0}, {\"id\": 15, \"x\": 5.726395568215326, \"y\": 104.94310058227605, \"node_shape\": \"dot\", \"color\": \"#8BA8D3\", \"border_width\": 0, \"title\": 15, \"degree\": 3.0}, {\"id\": 16, \"x\": 42.997238503080276, \"y\": 71.37811322436215, \"node_shape\": \"dot\", \"color\": \"#8BA8D3\", \"border_width\": 0, \"title\": 16, \"degree\": 3.0}, {\"id\": 17, \"x\": 23.378356146237408, \"y\": 60.58624423060156, \"node_shape\": \"dot\", \"color\": \"#8BA8D3\", \"border_width\": 0, \"title\": 17, \"degree\": 3.0}, {\"id\": 18, \"x\": 58.85144808673139, \"y\": 24.59530151508032, \"node_shape\": \"dot\", \"color\": \"#8BA8D3\", \"border_width\": 0, \"title\": 18, \"degree\": 3.0}, {\"id\": 19, \"x\": 89.2226022895116, \"y\": 7.330920598914361, \"node_shape\": \"dot\", \"color\": \"#8BA8D3\", \"border_width\": 0, \"title\": 19, \"degree\": 3.0}, {\"id\": 20, \"x\": 124.78846336305779, \"y\": 1.8169520030306348, \"node_shape\": \"dot\", \"color\": \"#8BA8D3\", \"border_width\": 0, \"title\": 20, \"degree\": 3.0}, {\"id\": 21, \"x\": 175.45345407148525, \"y\": 0.0, \"node_shape\": \"dot\", \"color\": \"#8BA8D3\", \"border_width\": 0, \"title\": 21, \"degree\": 3.0}, {\"id\": 22, \"x\": 154.2215166435122, \"y\": 32.10124604097071, \"node_shape\": \"dot\", \"color\": \"#8BA8D3\", \"border_width\": 0, \"title\": 22, \"degree\": 3.0}, {\"id\": 23, \"x\": 247.08823075721992, \"y\": 34.88847397612339, \"node_shape\": \"dot\", \"color\": \"#8BA8D3\", \"border_width\": 0, \"title\": 23, \"degree\": 3.0}, {\"id\": 24, \"x\": 247.90536169694914, \"y\": 102.89946752173847, \"node_shape\": \"dot\", \"color\": \"#8BA8D3\", \"border_width\": 0, \"title\": 24, \"degree\": 3.0}, {\"id\": 25, \"x\": 287.71520332031884, \"y\": 82.53485955843944, \"node_shape\": \"dot\", \"color\": \"#8BA8D3\", \"border_width\": 0, \"title\": 25, \"degree\": 3.0}, {\"id\": 26, \"x\": 293.5798230467213, \"y\": 186.4827829987175, \"node_shape\": \"dot\", \"color\": \"#8BA8D3\", \"border_width\": 0, \"title\": 26, \"degree\": 3.0}, {\"id\": 27, \"x\": 300.0, \"y\": 148.94488527199263, \"node_shape\": \"dot\", \"color\": \"#8BA8D3\", \"border_width\": 0, \"title\": 27, \"degree\": 3.0}, {\"id\": 28, \"x\": 278.0823692055356, \"y\": 220.3230380014742, \"node_shape\": \"dot\", \"color\": \"#8BA8D3\", \"border_width\": 0, \"title\": 28, \"degree\": 3.0}, {\"id\": 29, \"x\": 260.8853658532774, \"y\": 195.45203083272764, \"node_shape\": \"dot\", \"color\": \"#8BA8D3\", \"border_width\": 0, \"title\": 29, \"degree\": 3.0}], [{\"source\": 0, \"target\": 1, \"title\": \"test\"}, {\"source\": 0, \"target\": 29, \"title\": \"test\"}, {\"source\": 0, \"target\": 2, \"title\": \"test\"}, {\"source\": 0, \"target\": 28, \"title\": \"test\"}, {\"source\": 0, \"target\": 3, \"title\": \"test\"}, {\"source\": 1, \"target\": 2, \"title\": \"test\"}, {\"source\": 1, \"target\": 3, \"title\": \"test\"}, {\"source\": 1, \"target\": 29, \"title\": \"test\"}, {\"source\": 2, \"target\": 4, \"title\": \"test\"}, {\"source\": 2, \"target\": 26, \"title\": \"test\"}, {\"source\": 2, \"target\": 13, \"title\": \"test\"}, {\"source\": 3, \"target\": 4, \"title\": \"test\"}, {\"source\": 3, \"target\": 5, \"title\": \"test\"}, {\"source\": 4, \"target\": 5, \"title\": \"test\"}, {\"source\": 4, \"target\": 6, \"title\": \"test\"}, {\"source\": 5, \"target\": 6, \"title\": \"test\"}, {\"source\": 6, \"target\": 7, \"title\": \"test\"}, {\"source\": 6, \"target\": 8, \"title\": \"test\"}, {\"source\": 7, \"target\": 8, \"title\": \"test\"}, {\"source\": 7, \"target\": 9, \"title\": \"test\"}, {\"source\": 8, \"target\": 9, \"title\": \"test\"}, {\"source\": 8, \"target\": 25, \"title\": \"test\"}, {\"source\": 8, \"target\": 23, \"title\": \"test\"}, {\"source\": 9, \"target\": 10, \"title\": \"test\"}, {\"source\": 9, \"target\": 23, \"title\": \"test\"}, {\"source\": 9, \"target\": 29, \"title\": \"test\"}, {\"source\": 10, \"target\": 11, \"title\": \"test\"}, {\"source\": 10, \"target\": 19, \"title\": \"test\"}, {\"source\": 11, \"target\": 12, \"title\": \"test\"}, {\"source\": 11, \"target\": 13, \"title\": \"test\"}, {\"source\": 12, \"target\": 14, \"title\": \"test\"}, {\"source\": 12, \"target\": 17, \"title\": \"test\"}, {\"source\": 13, \"target\": 24, \"title\": \"test\"}, {\"source\": 14, \"target\": 15, \"title\": \"test\"}, {\"source\": 14, \"target\": 16, \"title\": \"test\"}, {\"source\": 15, \"target\": 16, \"title\": \"test\"}, {\"source\": 15, \"target\": 17, \"title\": \"test\"}, {\"source\": 16, \"target\": 17, \"title\": \"test\"}, {\"source\": 16, \"target\": 18, \"title\": \"test\"}, {\"source\": 16, \"target\": 22, \"title\": \"test\"}, {\"source\": 17, \"target\": 18, \"title\": \"test\"}, {\"source\": 17, \"target\": 19, \"title\": \"test\"}, {\"source\": 18, \"target\": 19, \"title\": \"test\"}, {\"source\": 18, \"target\": 20, \"title\": \"test\"}, {\"source\": 19, \"target\": 20, \"title\": \"test\"}, {\"source\": 19, \"target\": 21, \"title\": \"test\"}, {\"source\": 20, \"target\": 21, \"title\": \"test\"}, {\"source\": 20, \"target\": 22, \"title\": \"test\"}, {\"source\": 21, \"target\": 22, \"title\": \"test\"}, {\"source\": 21, \"target\": 23, \"title\": \"test\"}, {\"source\": 22, \"target\": 24, \"title\": \"test\"}, {\"source\": 23, \"target\": 25, \"title\": \"test\"}, {\"source\": 24, \"target\": 25, \"title\": \"test\"}, {\"source\": 24, \"target\": 26, \"title\": \"test\"}, {\"source\": 25, \"target\": 27, \"title\": \"test\"}, {\"source\": 26, \"target\": 27, \"title\": \"test\"}, {\"source\": 26, \"target\": 28, \"title\": \"test\"}, {\"source\": 27, \"target\": 28, \"title\": \"test\"}, {\"source\": 27, \"target\": 29, \"title\": \"test\"}, {\"source\": 28, \"target\": 29, \"title\": \"test\"}]);}</script><iframe name=\"style_file0\" src=\"style_file0.html\" width=\"100%;\" height=\"805px\"></iframe></body></html>"
      ],
      "text/plain": [
       "<IPython.core.display.HTML object>"
      ]
     },
     "execution_count": 36,
     "metadata": {},
     "output_type": "execute_result"
    }
   ],
   "source": [
    "G = nx.connected_watts_strogatz_graph(30, 5, 0.2)\n",
    "nodes = list(G.nodes()) # must cast to list to maintain compatibility between nx 1.11 and 2.0\n",
    "edges = list(G.edges()) # will return an \"EdgeView\" object in nx 2.0\n",
    "\n",
    "# define the initial positions of the nodes using networkx's spring_layout function, and add to the nodes_dict.\n",
    "pos = nx.spring_layout(G)\n",
    "\n",
    "nodes_dict = [{\"id\":n,\n",
    "              \"x\":pos[n][0]*300,\n",
    "              \"y\":pos[n][1]*300} for n in nodes]\n",
    "\n",
    "node_map = dict(zip(nodes,range(len(nodes))))  # map to indices for source/target in edges\n",
    "\n",
    "edges_dict = [{\"source\":node_map[edges[i][0]], \"target\":node_map[edges[i][1]], \n",
    "              \"title\":'test'} for i in range(len(edges))]\n",
    "\n",
    "visJS2jupyter.visJS_module.visjs_network(nodes_dict, edges_dict)\n",
    "\n"
   ]
  },
  {
   "cell_type": "code",
   "execution_count": 21,
   "metadata": {},
   "outputs": [],
   "source": [
    "from pyvis.network import Network\n",
    "net = Network()\n",
    "net.add_node(1, label=\"Node 1\") # node id = 1 and label = Node 1\n",
    "net.add_node(2) # node id and label = 2\n",
    "\n",
    "g = Network()\n",
    "g.add_nodes([1,2,3], value=[10, 100, 400], title=[\"I am node 1\", \"node 2 here\", \"and im node 3\"], x=[21.4, 54.2, 11.2], y=[100.2, 23.54, 32.1], label=[\"NODE 1\", \"NODE 2\", \"NODE 3\"], color=[\"#00ff1e\", \"#162347\", \"#dd4b39\"])\n",
    "\n"
   ]
  },
  {
   "cell_type": "code",
   "execution_count": 20,
   "metadata": {},
   "outputs": [],
   "source": [
    "#from pyvis.network import Network\n",
    "#import networkx as nx\n",
    "nxg = nx.complete_graph(10)\n",
    "\n",
    "G = Network()\n",
    "G.from_nx(nxg)\n",
    "#net.enable_physics(True)\n",
    "net.show(\"mygraph.html\")\n"
   ]
  }
 ],
 "metadata": {
  "kernelspec": {
   "display_name": "Python 3",
   "language": "python",
   "name": "python3"
  },
  "language_info": {
   "codemirror_mode": {
    "name": "ipython",
    "version": 3
   },
   "file_extension": ".py",
   "mimetype": "text/x-python",
   "name": "python",
   "nbconvert_exporter": "python",
   "pygments_lexer": "ipython3",
   "version": "3.6.7"
  }
 },
 "nbformat": 4,
 "nbformat_minor": 2
}
