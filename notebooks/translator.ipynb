{
 "cells": [
  {
   "cell_type": "code",
   "execution_count": 1,
   "metadata": {},
   "outputs": [
    {
     "data": {
      "text/html": [
       "<div class=\"krn-spql\"><div class=\"magic\">Endpoint set to: http://bio2rdf.org/sparql</div><div class=\"magic\">Label preferred languages: ['en']</div><div class=\"magic\">Return format: JSON</div><div class=\"magic\">Display: table</div></div>"
      ],
      "text/plain": [
       "Endpoint set to: http://bio2rdf.org/sparql\n",
       "Label preferred languages: ['en']\n",
       "Return format: JSON\n",
       "Display: table\n"
      ]
     },
     "metadata": {},
     "output_type": "display_data"
    }
   ],
   "source": [
    "%endpoint http://bio2rdf.org/sparql\n",
    "%lang en\n",
    "%format json\n",
    "%display table "
   ]
  },
  {
   "cell_type": "code",
   "execution_count": 2,
   "metadata": {},
   "outputs": [
    {
     "data": {
      "text/html": [
       "<div class=\"krn-spql\"><table><tr class=hdr><th>drugs</th></tr><tr class=odd><td class=val>7759</td></tr></table><div class=\"tinfo\">Total: 1, Shown: 1</div></div>"
      ]
     },
     "metadata": {},
     "output_type": "display_data"
    }
   ],
   "source": [
    "PREFIX rdfs: <http://www.w3.org/2000/01/rdf-schema#>\n",
    "PREFIX dv: <http://bio2rdf.org/drugbank_vocabulary:>\n",
    "\n",
    "SELECT count(*) AS ?drugs\n",
    "WHERE {\n",
    "    ?x a dv:Drug.\n",
    "} LIMIT 20"
   ]
  },
  {
   "cell_type": "code",
   "execution_count": 3,
   "metadata": {},
   "outputs": [
    {
     "data": {
      "text/html": [
       "<div class=\"krn-spql\"><div class=\"magic\">Return format: JSON</div><div class=\"magic\">Display: table</div><div class=\"magic\">Result maximum size: 10</div></div>"
      ],
      "text/plain": [
       "Return format: JSON\n",
       "Display: table\n",
       "Result maximum size: 10\n"
      ]
     },
     "metadata": {},
     "output_type": "display_data"
    },
    {
     "data": {
      "text/html": [
       "<div class=\"krn-spql\"><table><tr class=hdr><th>cat</th>\n",
       "<th>nc</th></tr><tr class=odd><td class=val><a href=\"http://bio2rdf.org/drugbank_vocabulary:Enzyme-Inhibitors\" target=\"_other\">http://bio2rdf.org/drugbank_vocabulary:Enzyme-Inhibitors</a></td>\n",
       "<td class=val>31097</td></tr><tr class=even><td class=val><a href=\"http://bio2rdf.org/drugbank_vocabulary:Antineoplastic-Agents\" target=\"_other\">http://bio2rdf.org/drugbank_vocabulary:Antineoplastic-Agents</a></td>\n",
       "<td class=val>21747</td></tr><tr class=odd><td class=val><a href=\"http://bio2rdf.org/drugbank_vocabulary:Supplements\" target=\"_other\">http://bio2rdf.org/drugbank_vocabulary:Supplements</a></td>\n",
       "<td class=val>18597</td></tr><tr class=even><td class=val><a href=\"http://bio2rdf.org/drugbank_vocabulary:Dietary-Supplements\" target=\"_other\">http://bio2rdf.org/drugbank_vocabulary:Dietary-Supplements</a></td>\n",
       "<td class=val>17606</td></tr><tr class=odd><td class=val><a href=\"http://bio2rdf.org/drugbank_vocabulary:Anti-Inflammatory-Agents,-Non-Steroidal\" target=\"_other\">http://bio2rdf.org/drugbank_vocabulary:Anti-Inflammatory-Agents,-Non-Steroidal</a></td>\n",
       "<td class=val>16906</td></tr><tr class=even><td class=val><a href=\"http://bio2rdf.org/drugbank_vocabulary:Antihypertensive-Agents\" target=\"_other\">http://bio2rdf.org/drugbank_vocabulary:Antihypertensive-Agents</a></td>\n",
       "<td class=val>16713</td></tr><tr class=odd><td class=val><a href=\"http://bio2rdf.org/drugbank_vocabulary:Micronutrients\" target=\"_other\">http://bio2rdf.org/drugbank_vocabulary:Micronutrients</a></td>\n",
       "<td class=val>16642</td></tr><tr class=even><td class=val><a href=\"http://bio2rdf.org/drugbank_vocabulary:Anticonvulsants\" target=\"_other\">http://bio2rdf.org/drugbank_vocabulary:Anticonvulsants</a></td>\n",
       "<td class=val>15279</td></tr><tr class=odd><td class=val><a href=\"http://bio2rdf.org/drugbank_vocabulary:Immunosuppressive-Agents\" target=\"_other\">http://bio2rdf.org/drugbank_vocabulary:Immunosuppressive-Agents</a></td>\n",
       "<td class=val>15208</td></tr><tr class=even><td class=val><a href=\"http://bio2rdf.org/drugbank_vocabulary:Anti-Bacterial-Agents\" target=\"_other\">http://bio2rdf.org/drugbank_vocabulary:Anti-Bacterial-Agents</a></td>\n",
       "<td class=val>15048</td></tr></table><div class=\"tinfo\">Total: 386, Shown: 10</div></div>"
      ]
     },
     "metadata": {},
     "output_type": "display_data"
    }
   ],
   "source": [
    "%format json\n",
    "%display table \n",
    "%show 10\n",
    "PREFIX dv: <http://bio2rdf.org/drugbank_vocabulary:>\n",
    "PREFIX rdf: <http://www.w3.org/1999/02/22-rdf-syntax-ns#>\n",
    "PREFIX rdfs: <http://www.w3.org/2000/01/rdf-schema#>\n",
    "PREFIX ctd: <http://bio2rdf.org/ctd_vocabulary:>\n",
    "\n",
    "SELECT ?cat (count(?c) AS ?nc)\n",
    "{\n",
    "  ?a a ctd:Chemical-Disease-Association;\n",
    "      ctd:disease ?d ;\n",
    "      ctd:chemical ?c .\n",
    "     # ?s1textp ?atext.\n",
    "     # ?atext bif:contains ' ( ANEMIA AND FANCONI AND MITOMYCIN ) ' .\n",
    "  ?c ctd:x-cas ?cas .\n",
    "  ?drug dv:x-cas ?cas .\n",
    "  ?drug dv:category ?cat .\n",
    "} GROUP BY ?cat\n",
    "ORDER BY DESC(?nc)"
   ]
  },
  {
   "cell_type": "code",
   "execution_count": 4,
   "metadata": {},
   "outputs": [
    {
     "data": {
      "text/html": [
       "<div class=\"krn-spql\"><div class=\"magic\">Endpoint set to: http://dbpedia.org/sparql</div><div class=\"magic\">Display: png</div></div>"
      ],
      "text/plain": [
       "Endpoint set to: http://dbpedia.org/sparql\n",
       "Display: png\n"
      ]
     },
     "metadata": {},
     "output_type": "display_data"
    },
    {
     "data": {
      "text/plain": [
       "{\n",
       "  \"head\": {\n",
       "    \"link\": [],\n",
       "    \"vars\": [\n",
       "      \"s\",\n",
       "      \"p\",\n",
       "      \"o\"\n",
       "    ]\n",
       "  },\n",
       "  \"results\": {\n",
       "    \"bindings\": [\n",
       "      {\n",
       "        \"o\": {\n",
       "          \"type\": \"uri\",\n",
       "          \"value\": \"http://dbpedia.org/resource/Maria_Theresa\"\n",
       "        },\n",
       "        \"p\": {\n",
       "          \"type\": \"uri\",\n",
       "          \"value\": \"http://dbpedia.org/property/successor\"\n",
       "        },\n",
       "        \"s\": {\n",
       "          \"type\": \"uri\",\n",
       "          \"value\": \"http://dbpedia.org/resource/Charles_VII,_Holy_Roman_Emperor\"\n",
       "        }\n",
       "      },\n",
       "      {\n",
       "        \"o\": {\n",
       "          \"type\": \"uri\",\n",
       "          \"value\": \"http://dbpedia.org/resource/Joseph_II,_Holy_Roman_Emperor\"\n",
       "        },\n",
       "        \"p\": {\n",
       "          \"type\": \"uri\",\n",
       "          \"value\": \"http://dbpedia.org/property/successor\"\n",
       "        },\n",
       "        \"s\": {\n",
       "          \"type\": \"uri\",\n",
       "          \"value\": \"http://dbpedia.org/resource/Maria_Theresa\"\n",
       "        }\n",
       "      },\n",
       "      {\n",
       "        \"o\": {\n",
       "          \"type\": \"uri\",\n",
       "          \"value\": \"http://dbpedia.org/resource/Edward_VIII\"\n",
       "        },\n",
       "        \"p\": {\n",
       "          \"type\": \"uri\",\n",
       "          \"value\": \"http://dbpedia.org/property/successor\"\n",
       "        },\n",
       "        \"s\": {\n",
       "          \"type\": \"uri\",\n",
       "          \"value\": \"http://dbpedia.org/resource/George_V\"\n",
       "        }\n",
       "      },\n",
       "      {\n",
       "        \"o\": {\n",
       "          \"type\": \"uri\",\n",
       "          \"value\": \"http://dbpedia.org/resource/George_V\"\n",
       "        },\n",
       "        \"p\": {\n",
       "          \"type\": \"uri\",\n",
       "          \"value\": \"http://dbpedia.org/property/successor\"\n",
       "        },\n",
       "        \"s\": {\n",
       "          \"type\": \"uri\",\n",
       "          \"value\": \"http://dbpedia.org/resource/Edward_VII\"\n",
       "        }\n",
       "      },\n",
       "      {\n",
       "        \"o\": {\n",
       "          \"type\": \"uri\",\n",
       "          \"value\": \"http://dbpedia.org/resource/Edward_VII\"\n",
       "        },\n",
       "        \"p\": {\n",
       "          \"type\": \"uri\",\n",
       "          \"value\": \"http://dbpedia.org/property/successor\"\n",
       "        },\n",
       "        \"s\": {\n",
       "          \"type\": \"uri\",\n",
       "          \"value\": \"http://dbpedia.org/resource/Queen_Victoria\"\n",
       "        }\n",
       "      },\n",
       "      {\n",
       "        \"o\": {\n",
       "          \"type\": \"uri\",\n",
       "          \"value\": \"http://dbpedia.org/resource/Maximilian_III_Joseph,_Elector_of_Bavaria\"\n",
       "        },\n",
       "        \"p\": {\n",
       "          \"type\": \"uri\",\n",
       "          \"value\": \"http://dbpedia.org/property/successor\"\n",
       "        },\n",
       "        \"s\": {\n",
       "          \"type\": \"uri\",\n",
       "          \"value\": \"http://dbpedia.org/resource/Charles_VII,_Holy_Roman_Emperor\"\n",
       "        }\n",
       "      },\n",
       "      {\n",
       "        \"o\": {\n",
       "          \"type\": \"uri\",\n",
       "          \"value\": \"http://dbpedia.org/resource/Charles_VII,_Holy_Roman_Emperor\"\n",
       "        },\n",
       "        \"p\": {\n",
       "          \"type\": \"uri\",\n",
       "          \"value\": \"http://dbpedia.org/property/successor\"\n",
       "        },\n",
       "        \"s\": {\n",
       "          \"type\": \"uri\",\n",
       "          \"value\": \"http://dbpedia.org/resource/Maria_Theresa\"\n",
       "        }\n",
       "      }\n",
       "    ],\n",
       "    \"distinct\": false,\n",
       "    \"ordered\": true\n",
       "  }\n",
       "}"
      ]
     },
     "metadata": {},
     "output_type": "display_data"
    }
   ],
   "source": [
    "%endpoint http://dbpedia.org/sparql\n",
    "%display diagram png\n",
    "\n",
    "CONSTRUCT {\n",
    "    ?p1 dbp:successor ?p2 .\n",
    "    ?p2 dbp:successor ?p3 .\n",
    "    ?p3 dbp:successor ?p4 .\n",
    "}\n",
    "WHERE {\n",
    "    ?p1 rdf:type foaf:Person .\n",
    "    ?p1 dbp:successor ?p2 .\n",
    "    ?p2 dbp:successor ?p3 .\n",
    "    ?p3 dbp:successor ?p4 .\n",
    "}\n",
    "LIMIT 5"
   ]
  },
  {
   "cell_type": "code",
   "execution_count": null,
   "metadata": {},
   "outputs": [],
   "source": []
  }
 ],
 "metadata": {
  "kernelspec": {
   "display_name": "SPARQL",
   "language": "sparql",
   "name": "sparql"
  },
  "language_info": {
   "codemirror_mode": {
    "name": "sparql"
   },
   "mimetype": "application/sparql-query",
   "name": "sparql",
   "pygments_lexer": "sparql-nb"
  }
 },
 "nbformat": 4,
 "nbformat_minor": 2
}
